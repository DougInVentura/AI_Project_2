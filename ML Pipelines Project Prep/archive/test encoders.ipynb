{
 "cells": [
  {
   "cell_type": "markdown",
   "metadata": {},
   "source": [
    "### This was the starting point and I realized that the \"input\" box for the python input statement was at the top, but the prompt info was below.  Moved to regular *.py file and continued.\n"
   ]
  },
  {
   "cell_type": "code",
   "execution_count": 6,
   "metadata": {},
   "outputs": [],
   "source": [
    "# onehot encoder automation\n",
    "import numpy as np\n",
    "import pandas as pd\n",
    "from sklearn.model_selection import train_test_split\n",
    "from sklearn.pipeline import Pipeline\n",
    "from sklearn.preprocessing import OneHotEncoder, StandardScaler, add_dummy_feature, LabelEncoder, OrdinalEncoder\n",
    "from sklearn.compose import ColumnTransformer\n",
    "\n",
    "from sklearn.linear_model import LogisticRegression\n",
    "from sklearn.ensemble import RandomForestClassifier, VotingClassifier, GradientBoostingClassifier, AdaBoostClassifier\n",
    "from sklearn.svm import SVC\n",
    "from sklearn.neighbors import KNeighborsClassifier\n",
    "from sklearn.metrics import accuracy_score, balanced_accuracy_score\n",
    "import build_up_encoder2\n"
   ]
  },
  {
   "cell_type": "code",
   "execution_count": 7,
   "metadata": {},
   "outputs": [
    {
     "data": {
      "text/html": [
       "<div>\n",
       "<style scoped>\n",
       "    .dataframe tbody tr th:only-of-type {\n",
       "        vertical-align: middle;\n",
       "    }\n",
       "\n",
       "    .dataframe tbody tr th {\n",
       "        vertical-align: top;\n",
       "    }\n",
       "\n",
       "    .dataframe thead th {\n",
       "        text-align: right;\n",
       "    }\n",
       "</style>\n",
       "<table border=\"1\" class=\"dataframe\">\n",
       "  <thead>\n",
       "    <tr style=\"text-align: right;\">\n",
       "      <th></th>\n",
       "      <th>animal</th>\n",
       "      <th>animal_name</th>\n",
       "      <th>rand_num</th>\n",
       "      <th>weight</th>\n",
       "    </tr>\n",
       "  </thead>\n",
       "  <tbody>\n",
       "    <tr>\n",
       "      <th>0</th>\n",
       "      <td>cat</td>\n",
       "      <td>ari</td>\n",
       "      <td>10</td>\n",
       "      <td>15</td>\n",
       "    </tr>\n",
       "    <tr>\n",
       "      <th>1</th>\n",
       "      <td>dog</td>\n",
       "      <td>coco</td>\n",
       "      <td>20</td>\n",
       "      <td>30</td>\n",
       "    </tr>\n",
       "    <tr>\n",
       "      <th>2</th>\n",
       "      <td>rat</td>\n",
       "      <td>willard</td>\n",
       "      <td>30</td>\n",
       "      <td>1</td>\n",
       "    </tr>\n",
       "    <tr>\n",
       "      <th>3</th>\n",
       "      <td>cat</td>\n",
       "      <td>ava</td>\n",
       "      <td>40</td>\n",
       "      <td>16</td>\n",
       "    </tr>\n",
       "    <tr>\n",
       "      <th>4</th>\n",
       "      <td>dog</td>\n",
       "      <td>bear</td>\n",
       "      <td>50</td>\n",
       "      <td>70</td>\n",
       "    </tr>\n",
       "  </tbody>\n",
       "</table>\n",
       "</div>"
      ],
      "text/plain": [
       "  animal animal_name  rand_num  weight\n",
       "0    cat         ari        10      15\n",
       "1    dog        coco        20      30\n",
       "2    rat     willard        30       1\n",
       "3    cat         ava        40      16\n",
       "4    dog        bear        50      70"
      ]
     },
     "metadata": {},
     "output_type": "display_data"
    }
   ],
   "source": [
    "# define a test df\n",
    "\n",
    "df = pd.DataFrame({'animal':['cat', 'dog', 'rat', 'cat', 'dog'],\n",
    "                   'animal_name':['ari','coco','willard','ava','bear'],\n",
    "                   'rand_num':[10,20,30,40,50],\n",
    "                   'weight': [15,30,1,16, 70]})\n",
    "\n",
    "display(df.head())"
   ]
  },
  {
   "cell_type": "markdown",
   "metadata": {},
   "source": [
    "#### Now define encoding lists"
   ]
  },
  {
   "cell_type": "code",
   "execution_count": 8,
   "metadata": {},
   "outputs": [
    {
     "name": "stdout",
     "output_type": "stream",
     "text": [
      "Enter 1 for OHE, 2 for Label Encoding, 3 for Ordinal Encoding, 4 for numeric scaling and 5 if it is Object type, but it is actually numeric for each column\n",
      "Enter 1 for OHE, 2 for Label Encoding, 3 for Ordinal Encoding, 4 for numeric scaling and 5 if it is Object type, but it is actually numeric for each column\n",
      "Value Counts for animal\n",
      "<bound method IndexOpsMixin.value_counts of 0    cat\n",
      "1    dog\n",
      "2    rat\n",
      "3    cat\n",
      "4    dog\n",
      "Name: animal, dtype: object>\n",
      "\n",
      "type of animal is: object\n",
      "Value Counts for animal_name\n",
      "<bound method IndexOpsMixin.value_counts of 0        ari\n",
      "1       coco\n",
      "2    willard\n",
      "3        ava\n",
      "4       bear\n",
      "Name: animal_name, dtype: object>\n",
      "\n",
      "type of animal_name is: object\n",
      "Value Counts for rand_num\n",
      "<bound method IndexOpsMixin.value_counts of 0    10\n",
      "1    20\n",
      "2    30\n",
      "3    40\n",
      "4    50\n",
      "Name: rand_num, dtype: int64>\n",
      "\n",
      "type of rand_num is: int64\n",
      "Value Counts for weight\n",
      "<bound method IndexOpsMixin.value_counts of 0    15\n",
      "1    30\n",
      "2     1\n",
      "3    16\n",
      "4    70\n",
      "Name: weight, dtype: int64>\n",
      "\n",
      "type of weight is: int64\n",
      "encoder array:\n",
      "[{'animal': 'OHE'}, {'animal_name': 'OHE'}, {'rand_num': 'NS'}, {'weight': 'NS'}]\n",
      "back from function...\n"
     ]
    },
    {
     "data": {
      "text/plain": [
       "[{'animal': 'OHE'},\n",
       " {'animal_name': 'OHE'},\n",
       " {'rand_num': 'NS'},\n",
       " {'weight': 'NS'}]"
      ]
     },
     "metadata": {},
     "output_type": "display_data"
    }
   ],
   "source": [
    "encode_array_demo = [{'animal':'OHE'},{'animal_name':'LE'},{'rand_num':'NE'},{'weight':'NE'}]\n",
    "\n",
    "print(\"Enter 1 for OHE, 2 for Label Encoding, 3 for Ordinal Encoding, 4 for numeric scaling and 5 if it is Object type, but it is actually numeric for each column\")\n",
    "encoder_array = build_up_encoder2.build_up_encoder_array(df)\n",
    "print(\"back from function...\")\n",
    "display(encoder_array)"
   ]
  },
  {
   "cell_type": "code",
   "execution_count": null,
   "metadata": {},
   "outputs": [],
   "source": []
  },
  {
   "cell_type": "code",
   "execution_count": 12,
   "metadata": {},
   "outputs": [
    {
     "data": {
      "text/plain": [
       "'numeric vals are: <built-in method values of dict object at 0x00000217F97F7980>'"
      ]
     },
     "metadata": {},
     "output_type": "display_data"
    },
    {
     "name": "stdout",
     "output_type": "stream",
     "text": [
      "encoder key is: dict_keys(['LEF']) and values are: dict_values([[]])\n",
      "in encoder.keys(), found 'LEF'\n",
      "encoder key is: dict_keys(['NUM']) and values are: dict_values([['rand_num', 'weight']])\n",
      "in encoder.keys(), found 'NUM'\n",
      "encoder key is: dict_keys(['ORD']) and values are: dict_values([[]])\n",
      "encoder key is: dict_keys(['OHE']) and values are: dict_values([['animal', 'animal_name']])\n"
     ]
    }
   ],
   "source": [
    "LabelEncoder_features = {'LEF':[]}\n",
    "numeric_features = {'NUM':['rand_num', 'weight']}\n",
    "Ordinal_features = {'ORD':[]}\n",
    "OneHotEncoder_features = {'OHE':['animal','animal_name']}\n",
    "encode_list = [LabelEncoder_features, numeric_features, Ordinal_features, OneHotEncoder_features]\n",
    "\n",
    "display(f\"numeric vals are: {numeric_features.values}\")\n",
    "\n",
    "for encoder in encode_list:\n",
    "    print(f\"encoder key is: {encoder.keys()} and values are: {encoder.values()}\")\n",
    "    if 'LEF' in encoder.keys():\n",
    "        print(f\"in encoder.keys(), found 'LEF'\")\n",
    "    if 'NUM' in encoder.keys():\n",
    "        print(f\"in encoder.keys(), found 'NUM'\")"
   ]
  },
  {
   "cell_type": "code",
   "execution_count": null,
   "metadata": {},
   "outputs": [],
   "source": []
  }
 ],
 "metadata": {
  "kernelspec": {
   "display_name": "dev",
   "language": "python",
   "name": "python3"
  },
  "language_info": {
   "codemirror_mode": {
    "name": "ipython",
    "version": 3
   },
   "file_extension": ".py",
   "mimetype": "text/x-python",
   "name": "python",
   "nbconvert_exporter": "python",
   "pygments_lexer": "ipython3",
   "version": "3.10.13"
  }
 },
 "nbformat": 4,
 "nbformat_minor": 2
}
